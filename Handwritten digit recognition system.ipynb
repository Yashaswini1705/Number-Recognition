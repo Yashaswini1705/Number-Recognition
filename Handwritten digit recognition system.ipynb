{
 "cells": [
  {
   "cell_type": "markdown",
   "id": "cd3c78a1",
   "metadata": {},
   "source": [
    "Handwriting Digit Recognition System using MNIST Dataset Task\n"
   ]
  },
  {
   "cell_type": "code",
   "execution_count": 1,
   "id": "860b44f4",
   "metadata": {},
   "outputs": [],
   "source": [
    "import tensorflow as tf                             \n",
    "from matplotlib import pyplot as plt                        \n",
    "import numpy as np"
   ]
  },
  {
   "cell_type": "code",
   "execution_count": 2,
   "id": "c906c730",
   "metadata": {},
   "outputs": [],
   "source": [
    "from keras.datasets import mnist\n",
    "objects=mnist\n",
    "(train_img,train_lab),(test_img,test_lab)=objects.load_data()"
   ]
  },
  {
   "cell_type": "code",
   "execution_count": 3,
   "id": "da47b1b0",
   "metadata": {},
   "outputs": [
    {
     "data": {
      "image/png": "[encoded data removed]",
      "text/plain": [
       "<Figure size 640x480 with 20 Axes>"
      ]
     },
     "metadata": {},
     "output_type": "display_data"
    }
   ],
   "source": [
    "for i in range(20):\n",
    "  plt.subplot(4,5,i+1)\n",
    "  plt.imshow(train_img[i],cmap='gray_r')\n",
    "  plt.title(\"Digit : {}\".format(train_lab[i]))\n",
    "  plt.subplots_adjust(hspace=0.5)\n",
    "  plt.axis('off')"
   ]
  },
  {
   "cell_type": "code",
   "execution_count": 4,
   "id": "030057a6",
   "metadata": {},
   "outputs": [
    {
     "name": "stdout",
     "output_type": "stream",
     "text": [
      "Training images shape :  (60000, 28, 28)\n",
      "Testing images shape :  (10000, 28, 28)\n"
     ]
    }
   ],
   "source": [
    "print('Training images shape : ',train_img.shape)\n",
    "print('Testing images shape : ',test_img.shape)"
   ]
  },
  {
   "cell_type": "code",
   "execution_count": 5,
   "id": "a5a99877",
   "metadata": {},
   "outputs": [
    {
     "name": "stdout",
     "output_type": "stream",
     "text": [
      "How image looks like : \n",
      "[[  0   0   0   0   0   0   0   0   0   0   0   0   0   0   0   0   0   0\n",
      "    0   0   0   0   0   0   0   0   0   0]\n",
      " [  0   0   0   0   0   0   0   0   0   0   0   0   0   0   0   0   0   0\n",
      "    0   0   0   0   0   0   0   0   0   0]\n",
      " [  0   0   0   0   0   0   0   0   0   0   0   0   0   0   0   0   0   0\n",
      "    0   0   0   0   0   0   0   0   0   0]\n",
      " [  0   0   0   0   0   0   0   0   0   0   0   0   0   0   0   0   0   0\n",
      "    0   0   0   0   0   0   0   0   0   0]\n",
      " [  0   0   0   0   0   0   0   0   0   0   0   0   0   0   0   0   0   0\n",
      "    0   0   0   0   0   0   0   0   0   0]\n",
      " [  0   0   0   0   0   0   0   0   0   0   0   0   3  18  18  18 126 136\n",
      "  175  26 166 255 247 127   0   0   0   0]\n",
      " [  0   0   0   0   0   0   0   0  30  36  94 154 170 253 253 253 253 253\n",
      "  225 172 253 242 195  64   0   0   0   0]\n",
      " [  0   0   0   0   0   0   0  49 238 253 253 253 253 253 253 253 253 251\n",
      "   93  82  82  56  39   0   0   0   0   0]\n",
      " [  0   0   0   0   0   0   0  18 219 253 253 253 253 253 198 182 247 241\n",
      "    0   0   0   0   0   0   0   0   0   0]\n",
      " [  0   0   0   0   0   0   0   0  80 156 107 253 253 205  11   0  43 154\n",
      "    0   0   0   0   0   0   0   0   0   0]\n",
      " [  0   0   0   0   0   0   0   0   0  14   1 154 253  90   0   0   0   0\n",
      "    0   0   0   0   0   0   0   0   0   0]\n",
      " [  0   0   0   0   0   0   0   0   0   0   0 139 253 190   2   0   0   0\n",
      "    0   0   0   0   0   0   0   0   0   0]\n",
      " [  0   0   0   0   0   0   0   0   0   0   0  11 190 253  70   0   0   0\n",
      "    0   0   0   0   0   0   0   0   0   0]\n",
      " [  0   0   0   0   0   0   0   0   0   0   0   0  35 241 225 160 108   1\n",
      "    0   0   0   0   0   0   0   0   0   0]\n",
      " [  0   0   0   0   0   0   0   0   0   0   0   0   0  81 240 253 253 119\n",
      "   25   0   0   0   0   0   0   0   0   0]\n",
      " [  0   0   0   0   0   0   0   0   0   0   0   0   0   0  45 186 253 253\n",
      "  150  27   0   0   0   0   0   0   0   0]\n",
      " [  0   0   0   0   0   0   0   0   0   0   0   0   0   0   0  16  93 252\n",
      "  253 187   0   0   0   0   0   0   0   0]\n",
      " [  0   0   0   0   0   0   0   0   0   0   0   0   0   0   0   0   0 249\n",
      "  253 249  64   0   0   0   0   0   0   0]\n",
      " [  0   0   0   0   0   0   0   0   0   0   0   0   0   0  46 130 183 253\n",
      "  253 207   2   0   0   0   0   0   0   0]\n",
      " [  0   0   0   0   0   0   0   0   0   0   0   0  39 148 229 253 253 253\n",
      "  250 182   0   0   0   0   0   0   0   0]\n",
      " [  0   0   0   0   0   0   0   0   0   0  24 114 221 253 253 253 253 201\n",
      "   78   0   0   0   0   0   0   0   0   0]\n",
      " [  0   0   0   0   0   0   0   0  23  66 213 253 253 253 253 198  81   2\n",
      "    0   0   0   0   0   0   0   0   0   0]\n",
      " [  0   0   0   0   0   0  18 171 219 253 253 253 253 195  80   9   0   0\n",
      "    0   0   0   0   0   0   0   0   0   0]\n",
      " [  0   0   0   0  55 172 226 253 253 253 253 244 133  11   0   0   0   0\n",
      "    0   0   0   0   0   0   0   0   0   0]\n",
      " [  0   0   0   0 136 253 253 253 212 135 132  16   0   0   0   0   0   0\n",
      "    0   0   0   0   0   0   0   0   0   0]\n",
      " [  0   0   0   0   0   0   0   0   0   0   0   0   0   0   0   0   0   0\n",
      "    0   0   0   0   0   0   0   0   0   0]\n",
      " [  0   0   0   0   0   0   0   0   0   0   0   0   0   0   0   0   0   0\n",
      "    0   0   0   0   0   0   0   0   0   0]\n",
      " [  0   0   0   0   0   0   0   0   0   0   0   0   0   0   0   0   0   0\n",
      "    0   0   0   0   0   0   0   0   0   0]]\n"
     ]
    }
   ],
   "source": [
    "print('How image looks like : ')\n",
    "print(train_img[0])"
   ]
  },
  {
   "cell_type": "code",
   "execution_count": 6,
   "id": "11d28ce0",
   "metadata": {},
   "outputs": [
    {
     "data": {
      "text/plain": [
       "Text(0.5,0,'Intensity')"
      ]
     },
     "execution_count": 6,
     "metadata": {},
     "output_type": "execute_result"
    },
    {
     "data": {
      "image/png": "[encoded data removed]",
      "text/plain": [
       "<Figure size 640x480 with 1 Axes>"
      ]
     },
     "metadata": {},
     "output_type": "display_data"
    }
   ],
   "source": [
    "plt.hist(train_img[0].reshape(784),facecolor='orange')\n",
    "plt.title('Pixel vs its intensity',fontsize=16)\n",
    "plt.ylabel('PIXEL')\n",
    "plt.xlabel('Intensity')"
   ]
  },
  {
   "cell_type": "code",
   "execution_count": 7,
   "id": "bb887e8f",
   "metadata": {},
   "outputs": [],
   "source": [
    "train_img=train_img/255.0\n",
    "test_img=test_img/255.0"
   ]
  },
  {
   "cell_type": "code",
   "execution_count": 8,
   "id": "0f441319",
   "metadata": {},
   "outputs": [
    {
     "name": "stdout",
     "output_type": "stream",
     "text": [
      "How image looks like after normalising: \n",
      "[[0.         0.         0.         0.         0.         0.\n",
      "  0.         0.         0.         0.         0.         0.\n",
      "  0.         0.         0.         0.         0.         0.\n",
      "  0.         0.         0.         0.         0.         0.\n",
      "  0.         0.         0.         0.        ]\n",
      " [0.         0.         0.         0.         0.         0.\n",
      "  0.         0.         0.         0.         0.         0.\n",
      "  0.         0.         0.         0.         0.         0.\n",
      "  0.         0.         0.         0.         0.         0.\n",
      "  0.         0.         0.         0.        ]\n",
      " [0.         0.         0.         0.         0.         0.\n",
      "  0.         0.         0.         0.         0.         0.\n",
      "  0.         0.         0.         0.         0.         0.\n",
      "  0.         0.         0.         0.         0.         0.\n",
      "  0.         0.         0.         0.        ]\n",
      " [0.         0.         0.         0.         0.         0.\n",
      "  0.         0.         0.         0.         0.         0.\n",
      "  0.         0.         0.         0.         0.         0.\n",
      "  0.         0.         0.         0.         0.         0.\n",
      "  0.         0.         0.         0.        ]\n",
      " [0.         0.         0.         0.         0.         0.\n",
      "  0.         0.         0.         0.         0.         0.\n",
      "  0.         0.         0.         0.         0.         0.\n",
      "  0.         0.         0.         0.         0.         0.\n",
      "  0.         0.         0.         0.        ]\n",
      " [0.         0.         0.         0.         0.         0.\n",
      "  0.         0.         0.         0.         0.         0.\n",
      "  0.01176471 0.07058824 0.07058824 0.07058824 0.49411765 0.53333333\n",
      "  0.68627451 0.10196078 0.65098039 1.         0.96862745 0.49803922\n",
      "  0.         0.         0.         0.        ]\n",
      " [0.         0.         0.         0.         0.         0.\n",
      "  0.         0.         0.11764706 0.14117647 0.36862745 0.60392157\n",
      "  0.66666667 0.99215686 0.99215686 0.99215686 0.99215686 0.99215686\n",
      "  0.88235294 0.6745098  0.99215686 0.94901961 0.76470588 0.25098039\n",
      "  0.         0.         0.         0.        ]\n",
      " [0.         0.         0.         0.         0.         0.\n",
      "  0.         0.19215686 0.93333333 0.99215686 0.99215686 0.99215686\n",
      "  0.99215686 0.99215686 0.99215686 0.99215686 0.99215686 0.98431373\n",
      "  0.36470588 0.32156863 0.32156863 0.21960784 0.15294118 0.\n",
      "  0.         0.         0.         0.        ]\n",
      " [0.         0.         0.         0.         0.         0.\n",
      "  0.         0.07058824 0.85882353 0.99215686 0.99215686 0.99215686\n",
      "  0.99215686 0.99215686 0.77647059 0.71372549 0.96862745 0.94509804\n",
      "  0.         0.         0.         0.         0.         0.\n",
      "  0.         0.         0.         0.        ]\n",
      " [0.         0.         0.         0.         0.         0.\n",
      "  0.         0.         0.31372549 0.61176471 0.41960784 0.99215686\n",
      "  0.99215686 0.80392157 0.04313725 0.         0.16862745 0.60392157\n",
      "  0.         0.         0.         0.         0.         0.\n",
      "  0.         0.         0.         0.        ]\n",
      " [0.         0.         0.         0.         0.         0.\n",
      "  0.         0.         0.         0.05490196 0.00392157 0.60392157\n",
      "  0.99215686 0.35294118 0.         0.         0.         0.\n",
      "  0.         0.         0.         0.         0.         0.\n",
      "  0.         0.         0.         0.        ]\n",
      " [0.         0.         0.         0.         0.         0.\n",
      "  0.         0.         0.         0.         0.         0.54509804\n",
      "  0.99215686 0.74509804 0.00784314 0.         0.         0.\n",
      "  0.         0.         0.         0.         0.         0.\n",
      "  0.         0.         0.         0.        ]\n",
      " [0.         0.         0.         0.         0.         0.\n",
      "  0.         0.         0.         0.         0.         0.04313725\n",
      "  0.74509804 0.99215686 0.2745098  0.         0.         0.\n",
      "  0.         0.         0.         0.         0.         0.\n",
      "  0.         0.         0.         0.        ]\n",
      " [0.         0.         0.         0.         0.         0.\n",
      "  0.         0.         0.         0.         0.         0.\n",
      "  0.1372549  0.94509804 0.88235294 0.62745098 0.42352941 0.00392157\n",
      "  0.         0.         0.         0.         0.         0.\n",
      "  0.         0.         0.         0.        ]\n",
      " [0.         0.         0.         0.         0.         0.\n",
      "  0.         0.         0.         0.         0.         0.\n",
      "  0.         0.31764706 0.94117647 0.99215686 0.99215686 0.46666667\n",
      "  0.09803922 0.         0.         0.         0.         0.\n",
      "  0.         0.         0.         0.        ]\n",
      " [0.         0.         0.         0.         0.         0.\n",
      "  0.         0.         0.         0.         0.         0.\n",
      "  0.         0.         0.17647059 0.72941176 0.99215686 0.99215686\n",
      "  0.58823529 0.10588235 0.         0.         0.         0.\n",
      "  0.         0.         0.         0.        ]\n",
      " [0.         0.         0.         0.         0.         0.\n",
      "  0.         0.         0.         0.         0.         0.\n",
      "  0.         0.         0.         0.0627451  0.36470588 0.98823529\n",
      "  0.99215686 0.73333333 0.         0.         0.         0.\n",
      "  0.         0.         0.         0.        ]\n",
      " [0.         0.         0.         0.         0.         0.\n",
      "  0.         0.         0.         0.         0.         0.\n",
      "  0.         0.         0.         0.         0.         0.97647059\n",
      "  0.99215686 0.97647059 0.25098039 0.         0.         0.\n",
      "  0.         0.         0.         0.        ]\n",
      " [0.         0.         0.         0.         0.         0.\n",
      "  0.         0.         0.         0.         0.         0.\n",
      "  0.         0.         0.18039216 0.50980392 0.71764706 0.99215686\n",
      "  0.99215686 0.81176471 0.00784314 0.         0.         0.\n",
      "  0.         0.         0.         0.        ]\n",
      " [0.         0.         0.         0.         0.         0.\n",
      "  0.         0.         0.         0.         0.         0.\n",
      "  0.15294118 0.58039216 0.89803922 0.99215686 0.99215686 0.99215686\n",
      "  0.98039216 0.71372549 0.         0.         0.         0.\n",
      "  0.         0.         0.         0.        ]\n",
      " [0.         0.         0.         0.         0.         0.\n",
      "  0.         0.         0.         0.         0.09411765 0.44705882\n",
      "  0.86666667 0.99215686 0.99215686 0.99215686 0.99215686 0.78823529\n",
      "  0.30588235 0.         0.         0.         0.         0.\n",
      "  0.         0.         0.         0.        ]\n",
      " [0.         0.         0.         0.         0.         0.\n",
      "  0.         0.         0.09019608 0.25882353 0.83529412 0.99215686\n",
      "  0.99215686 0.99215686 0.99215686 0.77647059 0.31764706 0.00784314\n",
      "  0.         0.         0.         0.         0.         0.\n",
      "  0.         0.         0.         0.        ]\n",
      " [0.         0.         0.         0.         0.         0.\n",
      "  0.07058824 0.67058824 0.85882353 0.99215686 0.99215686 0.99215686\n",
      "  0.99215686 0.76470588 0.31372549 0.03529412 0.         0.\n",
      "  0.         0.         0.         0.         0.         0.\n",
      "  0.         0.         0.         0.        ]\n",
      " [0.         0.         0.         0.         0.21568627 0.6745098\n",
      "  0.88627451 0.99215686 0.99215686 0.99215686 0.99215686 0.95686275\n",
      "  0.52156863 0.04313725 0.         0.         0.         0.\n",
      "  0.         0.         0.         0.         0.         0.\n",
      "  0.         0.         0.         0.        ]\n",
      " [0.         0.         0.         0.         0.53333333 0.99215686\n",
      "  0.99215686 0.99215686 0.83137255 0.52941176 0.51764706 0.0627451\n",
      "  0.         0.         0.         0.         0.         0.\n",
      "  0.         0.         0.         0.         0.         0.\n",
      "  0.         0.         0.         0.        ]\n",
      " [0.         0.         0.         0.         0.         0.\n",
      "  0.         0.         0.         0.         0.         0.\n",
      "  0.         0.         0.         0.         0.         0.\n",
      "  0.         0.         0.         0.         0.         0.\n",
      "  0.         0.         0.         0.        ]\n",
      " [0.         0.         0.         0.         0.         0.\n",
      "  0.         0.         0.         0.         0.         0.\n",
      "  0.         0.         0.         0.         0.         0.\n",
      "  0.         0.         0.         0.         0.         0.\n",
      "  0.         0.         0.         0.        ]\n",
      " [0.         0.         0.         0.         0.         0.\n",
      "  0.         0.         0.         0.         0.         0.\n",
      "  0.         0.         0.         0.         0.         0.\n",
      "  0.         0.         0.         0.         0.         0.\n",
      "  0.         0.         0.         0.        ]]\n"
     ]
    }
   ],
   "source": [
    "print('How image looks like after normalising: ')\n",
    "print(train_img[0])"
   ]
  },
  {
   "cell_type": "code",
   "execution_count": 9,
   "id": "90a75cca",
   "metadata": {},
   "outputs": [
    {
     "data": {
      "text/plain": [
       "Text(0.5,0,'Intensity')"
      ]
     },
     "execution_count": 9,
     "metadata": {},
     "output_type": "execute_result"
    },
    {
     "data": {
      "image/png": "[encoded data removed]",
      "text/plain": [
       "<Figure size 640x480 with 1 Axes>"
      ]
     },
     "metadata": {},
     "output_type": "display_data"
    }
   ],
   "source": [
    "plt.hist(train_img[0].reshape(784),facecolor='orange')\n",
    "plt.title('Pixel vs its intensity',fontsize=16)\n",
    "plt.ylabel('PIXEL')\n",
    "plt.xlabel('Intensity')"
   ]
  },
  {
   "cell_type": "code",
   "execution_count": 10,
   "id": "f3e03998",
   "metadata": {},
   "outputs": [],
   "source": [
    "from keras.models import Sequential\n",
    "from keras.layers import Flatten,Dense\n",
    "model=Sequential()\n",
    "input_layer= Flatten(input_shape=(28,28))\n",
    "model.add(input_layer)\n",
    "hidden_layer1=Dense(512,activation='relu')\n",
    "model.add(hidden_layer1)\n",
    "hidden_layer2=Dense(512,activation='relu')\n",
    "model.add(hidden_layer2)\n",
    "output_layer=Dense(10,activation='softmax')\n",
    "model.add(output_layer)"
   ]
  },
  {
   "cell_type": "code",
   "execution_count": 11,
   "id": "585f9f56",
   "metadata": {},
   "outputs": [],
   "source": [
    "#compiling the sequential model\n",
    "model.compile(optimizer = 'adam', \n",
    "              loss = 'sparse_categorical_crossentropy', \n",
    "              metrics=['accuracy'])"
   ]
  },
  {
   "cell_type": "code",
   "execution_count": 12,
   "id": "bbcdb72e",
   "metadata": {},
   "outputs": [
    {
     "name": "stdout",
     "output_type": "stream",
     "text": [
      "Epoch 1/100\n",
      "1875/1875 [==============================] - 24s 13ms/step - loss: 0.1843 - accuracy: 0.9424\n",
      "Epoch 2/100\n",
      "1875/1875 [==============================] - 22s 12ms/step - loss: 0.0812 - accuracy: 0.9753\n",
      "Epoch 3/100\n",
      "1875/1875 [==============================] - 22s 12ms/step - loss: 0.0576 - accuracy: 0.9819\n",
      "Epoch 4/100\n",
      "1875/1875 [==============================] - 23s 12ms/step - loss: 0.0413 - accuracy: 0.9864\n",
      "Epoch 5/100\n",
      "1875/1875 [==============================] - 22s 12ms/step - loss: 0.0332 - accuracy: 0.9894\n",
      "Epoch 6/100\n",
      "1875/1875 [==============================] - 22s 12ms/step - loss: 0.0282 - accuracy: 0.9908\n",
      "Epoch 7/100\n",
      "1875/1875 [==============================] - 22s 12ms/step - loss: 0.0254 - accuracy: 0.9918\n",
      "Epoch 8/100\n",
      "1875/1875 [==============================] - 22s 12ms/step - loss: 0.0220 - accuracy: 0.9931\n",
      "Epoch 9/100\n",
      "1875/1875 [==============================] - 22s 12ms/step - loss: 0.0193 - accuracy: 0.9938\n",
      "Epoch 10/100\n",
      "1875/1875 [==============================] - 22s 12ms/step - loss: 0.0225 - accuracy: 0.9934\n",
      "Epoch 11/100\n",
      "1875/1875 [==============================] - 22s 12ms/step - loss: 0.0140 - accuracy: 0.9957\n",
      "Epoch 12/100\n",
      "1875/1875 [==============================] - 22s 12ms/step - loss: 0.0196 - accuracy: 0.9942\n",
      "Epoch 13/100\n",
      "1875/1875 [==============================] - 22s 12ms/step - loss: 0.0158 - accuracy: 0.9956\n",
      "Epoch 14/100\n",
      "1875/1875 [==============================] - 22s 12ms/step - loss: 0.0128 - accuracy: 0.9961\n",
      "Epoch 15/100\n",
      "1875/1875 [==============================] - 23s 12ms/step - loss: 0.0150 - accuracy: 0.9958\n",
      "Epoch 16/100\n",
      "1875/1875 [==============================] - 23s 12ms/step - loss: 0.0133 - accuracy: 0.9964\n",
      "Epoch 17/100\n",
      "1875/1875 [==============================] - 23s 12ms/step - loss: 0.0147 - accuracy: 0.9961\n",
      "Epoch 18/100\n",
      "1875/1875 [==============================] - 23s 12ms/step - loss: 0.0165 - accuracy: 0.9959\n",
      "Epoch 19/100\n",
      "1875/1875 [==============================] - 23s 12ms/step - loss: 0.0119 - accuracy: 0.9969\n",
      "Epoch 20/100\n",
      "1875/1875 [==============================] - 23s 12ms/step - loss: 0.0100 - accuracy: 0.9974\n",
      "Epoch 21/100\n",
      "1875/1875 [==============================] - 22s 12ms/step - loss: 0.0119 - accuracy: 0.9970\n",
      "Epoch 22/100\n",
      "1875/1875 [==============================] - 22s 12ms/step - loss: 0.0122 - accuracy: 0.9969\n",
      "Epoch 23/100\n",
      "1875/1875 [==============================] - 22s 12ms/step - loss: 0.0120 - accuracy: 0.9973\n",
      "Epoch 24/100\n",
      "1875/1875 [==============================] - 22s 12ms/step - loss: 0.0149 - accuracy: 0.9967\n",
      "Epoch 25/100\n",
      "1875/1875 [==============================] - 23s 12ms/step - loss: 0.0092 - accuracy: 0.9977\n",
      "Epoch 26/100\n",
      "1875/1875 [==============================] - 22s 12ms/step - loss: 0.0110 - accuracy: 0.9973\n",
      "Epoch 27/100\n",
      "1875/1875 [==============================] - 22s 12ms/step - loss: 0.0111 - accuracy: 0.9979\n",
      "Epoch 28/100\n",
      "1875/1875 [==============================] - 22s 12ms/step - loss: 0.0097 - accuracy: 0.9976\n",
      "Epoch 29/100\n",
      "1875/1875 [==============================] - 22s 12ms/step - loss: 0.0102 - accuracy: 0.9977\n",
      "Epoch 30/100\n",
      "1875/1875 [==============================] - 22s 12ms/step - loss: 0.0117 - accuracy: 0.9975\n",
      "Epoch 31/100\n",
      "1875/1875 [==============================] - 22s 12ms/step - loss: 0.0135 - accuracy: 0.9974\n",
      "Epoch 32/100\n",
      "1875/1875 [==============================] - 22s 12ms/step - loss: 0.0087 - accuracy: 0.9979\n",
      "Epoch 33/100\n",
      "1875/1875 [==============================] - 23s 12ms/step - loss: 0.0082 - accuracy: 0.9981\n",
      "Epoch 34/100\n",
      "1875/1875 [==============================] - 22s 12ms/step - loss: 0.0139 - accuracy: 0.9976\n",
      "Epoch 35/100\n",
      "1875/1875 [==============================] - 23s 12ms/step - loss: 0.0110 - accuracy: 0.9979\n",
      "Epoch 36/100\n",
      "1875/1875 [==============================] - 22s 12ms/step - loss: 0.0105 - accuracy: 0.9980\n",
      "Epoch 37/100\n",
      "1875/1875 [==============================] - 22s 12ms/step - loss: 0.0096 - accuracy: 0.9981\n",
      "Epoch 38/100\n",
      "1875/1875 [==============================] - 22s 12ms/step - loss: 0.0157 - accuracy: 0.9975\n",
      "Epoch 39/100\n",
      "1875/1875 [==============================] - 22s 12ms/step - loss: 0.0088 - accuracy: 0.9983\n",
      "Epoch 40/100\n",
      "1875/1875 [==============================] - 22s 12ms/step - loss: 0.0056 - accuracy: 0.9988\n",
      "Epoch 41/100\n",
      "1875/1875 [==============================] - 23s 12ms/step - loss: 0.0082 - accuracy: 0.9984\n",
      "Epoch 42/100\n",
      "1875/1875 [==============================] - 23s 12ms/step - loss: 0.0157 - accuracy: 0.9977\n",
      "Epoch 43/100\n",
      "1875/1875 [==============================] - 22s 12ms/step - loss: 0.0088 - accuracy: 0.9985\n",
      "Epoch 44/100\n",
      "1875/1875 [==============================] - 23s 12ms/step - loss: 0.0095 - accuracy: 0.9987\n",
      "Epoch 45/100\n",
      "1875/1875 [==============================] - 23s 12ms/step - loss: 0.0109 - accuracy: 0.9981\n",
      "Epoch 46/100\n",
      "1875/1875 [==============================] - 23s 12ms/step - loss: 0.0088 - accuracy: 0.9984\n",
      "Epoch 47/100\n",
      "1875/1875 [==============================] - 23s 12ms/step - loss: 0.0085 - accuracy: 0.9983\n",
      "Epoch 48/100\n",
      "1875/1875 [==============================] - 22s 12ms/step - loss: 0.0099 - accuracy: 0.9982\n",
      "Epoch 49/100\n",
      "1875/1875 [==============================] - 22s 12ms/step - loss: 0.0099 - accuracy: 0.9984\n",
      "Epoch 50/100\n",
      "1875/1875 [==============================] - 23s 12ms/step - loss: 0.0113 - accuracy: 0.9981\n",
      "Epoch 51/100\n",
      "1875/1875 [==============================] - 23s 12ms/step - loss: 0.0072 - accuracy: 0.9988\n",
      "Epoch 52/100\n",
      "1875/1875 [==============================] - 23s 12ms/step - loss: 0.0085 - accuracy: 0.9983\n",
      "Epoch 53/100\n",
      "1875/1875 [==============================] - 23s 12ms/step - loss: 0.0151 - accuracy: 0.9980\n",
      "Epoch 54/100\n",
      "1875/1875 [==============================] - 23s 12ms/step - loss: 0.0065 - accuracy: 0.9988\n",
      "Epoch 55/100\n",
      "1875/1875 [==============================] - 23s 12ms/step - loss: 0.0091 - accuracy: 0.9987\n",
      "Epoch 56/100\n",
      "1875/1875 [==============================] - 23s 12ms/step - loss: 0.0094 - accuracy: 0.9986\n",
      "Epoch 57/100\n",
      "1875/1875 [==============================] - 23s 12ms/step - loss: 0.0095 - accuracy: 0.9987\n",
      "Epoch 58/100\n",
      "1875/1875 [==============================] - 23s 12ms/step - loss: 0.0114 - accuracy: 0.9984\n",
      "Epoch 59/100\n",
      "1875/1875 [==============================] - 23s 12ms/step - loss: 0.0103 - accuracy: 0.9986\n",
      "Epoch 60/100\n",
      "1875/1875 [==============================] - 956s 510ms/step - loss: 0.0137 - accuracy: 0.9983\n",
      "Epoch 61/100\n",
      "1875/1875 [==============================] - 24s 13ms/step - loss: 0.0079 - accuracy: 0.9987\n",
      "Epoch 62/100\n",
      "1875/1875 [==============================] - 23s 12ms/step - loss: 0.0077 - accuracy: 0.9989\n",
      "Epoch 63/100\n",
      "1875/1875 [==============================] - 23s 12ms/step - loss: 0.0132 - accuracy: 0.9985\n",
      "Epoch 64/100\n",
      "1875/1875 [==============================] - 23s 12ms/step - loss: 0.0130 - accuracy: 0.9985\n",
      "Epoch 65/100\n",
      "1875/1875 [==============================] - 23s 12ms/step - loss: 0.0098 - accuracy: 0.9990\n",
      "Epoch 66/100\n",
      "1875/1875 [==============================] - 23s 12ms/step - loss: 0.0091 - accuracy: 0.9988\n",
      "Epoch 67/100\n",
      "1875/1875 [==============================] - 23s 12ms/step - loss: 0.0068 - accuracy: 0.9990\n",
      "Epoch 68/100\n",
      "1875/1875 [==============================] - 23s 12ms/step - loss: 0.0111 - accuracy: 0.9986\n",
      "Epoch 69/100\n",
      "1875/1875 [==============================] - 24s 13ms/step - loss: 0.0085 - accuracy: 0.9989\n",
      "Epoch 70/100\n",
      "1875/1875 [==============================] - 23s 12ms/step - loss: 0.0102 - accuracy: 0.9987\n",
      "Epoch 71/100\n",
      "1875/1875 [==============================] - 23s 12ms/step - loss: 0.0079 - accuracy: 0.9991\n",
      "Epoch 72/100\n",
      "1875/1875 [==============================] - 23s 12ms/step - loss: 0.0103 - accuracy: 0.9990\n",
      "Epoch 73/100\n",
      "1875/1875 [==============================] - 23s 12ms/step - loss: 0.0103 - accuracy: 0.9987\n",
      "Epoch 74/100\n",
      "1875/1875 [==============================] - 23s 12ms/step - loss: 0.0092 - accuracy: 0.9989\n",
      "Epoch 75/100\n",
      "1875/1875 [==============================] - 23s 12ms/step - loss: 0.0082 - accuracy: 0.9990\n",
      "Epoch 76/100\n",
      "1875/1875 [==============================] - 23s 12ms/step - loss: 0.0073 - accuracy: 0.9990\n",
      "Epoch 77/100\n",
      "1875/1875 [==============================] - 23s 12ms/step - loss: 0.0112 - accuracy: 0.9986\n",
      "Epoch 78/100\n"
     ]
    },
    {
     "name": "stdout",
     "output_type": "stream",
     "text": [
      "1875/1875 [==============================] - 22s 12ms/step - loss: 0.0063 - accuracy: 0.9991\n",
      "Epoch 79/100\n",
      "1875/1875 [==============================] - 22s 12ms/step - loss: 0.0092 - accuracy: 0.9990\n",
      "Epoch 80/100\n",
      "1875/1875 [==============================] - 22s 12ms/step - loss: 0.0082 - accuracy: 0.9990\n",
      "Epoch 81/100\n",
      "1875/1875 [==============================] - 22s 12ms/step - loss: 0.0055 - accuracy: 0.9992\n",
      "Epoch 82/100\n",
      "1875/1875 [==============================] - 22s 12ms/step - loss: 0.0067 - accuracy: 0.9991\n",
      "Epoch 83/100\n",
      "1875/1875 [==============================] - 22s 12ms/step - loss: 0.0081 - accuracy: 0.9989\n",
      "Epoch 84/100\n",
      "1875/1875 [==============================] - 22s 12ms/step - loss: 0.0085 - accuracy: 0.9989\n",
      "Epoch 85/100\n",
      "1875/1875 [==============================] - 22s 12ms/step - loss: 0.0071 - accuracy: 0.9991\n",
      "Epoch 86/100\n",
      "1875/1875 [==============================] - 23s 12ms/step - loss: 0.0095 - accuracy: 0.9988\n",
      "Epoch 87/100\n",
      "1875/1875 [==============================] - 22s 12ms/step - loss: 0.0111 - accuracy: 0.9989\n",
      "Epoch 88/100\n",
      "1875/1875 [==============================] - 22s 12ms/step - loss: 0.0085 - accuracy: 0.9989\n",
      "Epoch 89/100\n",
      "1875/1875 [==============================] - 22s 12ms/step - loss: 0.0091 - accuracy: 0.9991\n",
      "Epoch 90/100\n",
      "1875/1875 [==============================] - 23s 12ms/step - loss: 0.0106 - accuracy: 0.9987\n",
      "Epoch 91/100\n",
      "1875/1875 [==============================] - 22s 12ms/step - loss: 0.0113 - accuracy: 0.9988\n",
      "Epoch 92/100\n",
      "1875/1875 [==============================] - 23s 12ms/step - loss: 0.0092 - accuracy: 0.9991\n",
      "Epoch 93/100\n",
      "1875/1875 [==============================] - 22s 12ms/step - loss: 0.0069 - accuracy: 0.9993\n",
      "Epoch 94/100\n",
      "1875/1875 [==============================] - 22s 12ms/step - loss: 0.0055 - accuracy: 0.9995\n",
      "Epoch 95/100\n",
      "1875/1875 [==============================] - 22s 12ms/step - loss: 0.0140 - accuracy: 0.9988\n",
      "Epoch 96/100\n",
      "1875/1875 [==============================] - 23s 12ms/step - loss: 0.0101 - accuracy: 0.9991\n",
      "Epoch 97/100\n",
      "1875/1875 [==============================] - 22s 12ms/step - loss: 0.0080 - accuracy: 0.9991\n",
      "Epoch 98/100\n",
      "1875/1875 [==============================] - 22s 12ms/step - loss: 0.0101 - accuracy: 0.9988\n",
      "Epoch 99/100\n",
      "1875/1875 [==============================] - 22s 12ms/step - loss: 0.0128 - accuracy: 0.9990\n",
      "Epoch 100/100\n",
      "1875/1875 [==============================] - 24s 13ms/step - loss: 0.0087 - accuracy: 0.9991\n"
     ]
    },
    {
     "data": {
      "text/plain": [
       "<keras.callbacks.History at 0x18dfc201a58>"
      ]
     },
     "execution_count": 12,
     "metadata": {},
     "output_type": "execute_result"
    }
   ],
   "source": [
    "model.fit(train_img,train_lab,epochs=100)"
   ]
  },
  {
   "cell_type": "code",
   "execution_count": 13,
   "id": "0d701f87",
   "metadata": {},
   "outputs": [],
   "source": [
    "model.save('project.h5')"
   ]
  },
  {
   "cell_type": "code",
   "execution_count": 14,
   "id": "6e018666",
   "metadata": {},
   "outputs": [
    {
     "name": "stdout",
     "output_type": "stream",
     "text": [
      "313/313 - 1s - loss: 0.4721 - accuracy: 0.9830 - 1s/epoch - 3ms/step\n",
      "Test Loss 0.4720936417579651\n",
      "Test Accuracy 0.9829999804496765\n"
     ]
    }
   ],
   "source": [
    "loss_and_acc=model.evaluate(test_img,test_lab,verbose=2)\n",
    "print(\"Test Loss\", loss_and_acc[0])\n",
    "print(\"Test Accuracy\", loss_and_acc[1])"
   ]
  },
  {
   "cell_type": "code",
   "execution_count": 15,
   "id": "ea60e912",
   "metadata": {},
   "outputs": [
    {
     "name": "stdout",
     "output_type": "stream",
     "text": [
      "313/313 [==============================] - 1s 3ms/step\n",
      "Predicted Value:  7\n",
      "Successful prediction\n"
     ]
    },
    {
     "data": {
      "image/png": "[encoded data removed]",
      "text/plain": [
       "<Figure size 640x480 with 1 Axes>"
      ]
     },
     "metadata": {},
     "output_type": "display_data"
    }
   ],
   "source": [
    "plt.imshow(test_img[0],cmap='gray_r')\n",
    "plt.title('Actual Value: {}'.format(test_lab[0]))\n",
    "prediction=model.predict(test_img)\n",
    "plt.axis('off')\n",
    "print('Predicted Value: ',np.argmax(prediction[0]))\n",
    "if(test_lab[0]==(np.argmax(prediction[0]))):\n",
    "  print('Successful prediction')\n",
    "else:\n",
    "  print('Unsuccessful prediction')"
   ]
  },
  {
   "cell_type": "code",
   "execution_count": 16,
   "id": "9dd89d4c",
   "metadata": {},
   "outputs": [
    {
     "name": "stdout",
     "output_type": "stream",
     "text": [
      "313/313 [==============================] - 1s 3ms/step\n",
      "Predicted Value:  2\n",
      "Successful prediction\n"
     ]
    },
    {
     "data": {
      "image/png": "[encoded data removed]",
      "text/plain": [
       "<Figure size 640x480 with 1 Axes>"
      ]
     },
     "metadata": {},
     "output_type": "display_data"
    }
   ],
   "source": [
    "plt.imshow(test_img[1],cmap='gray_r')\n",
    "plt.title('Actual Value: {}'.format(test_lab[1]))\n",
    "prediction=model.predict(test_img)\n",
    "plt.axis('off')\n",
    "print('Predicted Value: ',np.argmax(prediction[1]))\n",
    "if(test_lab[1]==(np.argmax(prediction[1]))):\n",
    "  print('Successful prediction')\n",
    "else:\n",
    "  print('Unsuccessful prediction')"
   ]
  },
  {
   "cell_type": "code",
   "execution_count": 17,
   "id": "e4766a95",
   "metadata": {},
   "outputs": [
    {
     "name": "stdout",
     "output_type": "stream",
     "text": [
      "313/313 [==============================] - 1s 3ms/step\n",
      "Predicted Value:  1\n",
      "Successful prediction\n"
     ]
    },
    {
     "data": {
      "image/png": "[encoded data removed]",
      "text/plain": [
       "<Figure size 640x480 with 1 Axes>"
      ]
     },
     "metadata": {},
     "output_type": "display_data"
    }
   ],
   "source": [
    "plt.imshow(test_img[2],cmap='gray_r')\n",
    "plt.title('Actual Value: {}'.format(test_lab[2]))\n",
    "prediction=model.predict(test_img)\n",
    "plt.axis('off')\n",
    "print('Predicted Value: ',np.argmax(prediction[2]))\n",
    "if(test_lab[2]==(np.argmax(prediction[2]))):\n",
    "  print('Successful prediction')\n",
    "else:\n",
    "  print('Unsuccessful prediction')"
   ]
  }
 ],
 "metadata": {
  "kernelspec": {
   "display_name": "Python 3 (ipykernel)",
   "language": "python",
   "name": "python3"
  },
  "language_info": {
   "codemirror_mode": {
    "name": "ipython",
    "version": 3
   },
   "file_extension": ".py",
   "mimetype": "text/x-python",
   "name": "python",
   "nbconvert_exporter": "python",
   "pygments_lexer": "ipython3",
   "version": "3.7.3"
  }
 },
 "nbformat": 4,
 "nbformat_minor": 5
}
